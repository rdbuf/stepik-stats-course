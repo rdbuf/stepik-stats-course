{
 "cells": [
  {
   "cell_type": "markdown",
   "metadata": {},
   "source": [
    "# 1. Описательная статистика"
   ]
  },
  {
   "cell_type": "code",
   "execution_count": 88,
   "metadata": {},
   "outputs": [],
   "source": [
    "import pandas as pd\n",
    "import numpy as np\n",
    "import scipy.stats\n",
    "import matplotlib.pyplot as plt\n",
    "import seaborn as sns"
   ]
  },
  {
   "cell_type": "markdown",
   "metadata": {},
   "source": [
    "## 13_6"
   ]
  },
  {
   "cell_type": "markdown",
   "metadata": {},
   "source": [
    "### Данные"
   ]
  },
  {
   "cell_type": "code",
   "execution_count": 15,
   "metadata": {},
   "outputs": [
    {
     "data": {
      "text/html": [
       "<div>\n",
       "<style scoped>\n",
       "    .dataframe tbody tr th:only-of-type {\n",
       "        vertical-align: middle;\n",
       "    }\n",
       "\n",
       "    .dataframe tbody tr th {\n",
       "        vertical-align: top;\n",
       "    }\n",
       "\n",
       "    .dataframe thead th {\n",
       "        text-align: right;\n",
       "    }\n",
       "</style>\n",
       "<table border=\"1\" class=\"dataframe\">\n",
       "  <thead>\n",
       "    <tr style=\"text-align: right;\">\n",
       "      <th></th>\n",
       "      <th>type</th>\n",
       "      <th>yearmonth</th>\n",
       "      <th>buyers_6</th>\n",
       "      <th>buyers_13</th>\n",
       "      <th>shop</th>\n",
       "      <th>year</th>\n",
       "      <th>month</th>\n",
       "      <th>diff_13_6</th>\n",
       "    </tr>\n",
       "  </thead>\n",
       "  <tbody>\n",
       "    <tr>\n",
       "      <th>0</th>\n",
       "      <td>shopping</td>\n",
       "      <td>1990, July</td>\n",
       "      <td>4942</td>\n",
       "      <td>4882</td>\n",
       "      <td>Epsom</td>\n",
       "      <td>1990.00</td>\n",
       "      <td>July</td>\n",
       "      <td>-60.00</td>\n",
       "    </tr>\n",
       "    <tr>\n",
       "      <th>1</th>\n",
       "      <td>shopping</td>\n",
       "      <td>1991, September</td>\n",
       "      <td>4895</td>\n",
       "      <td>4736</td>\n",
       "      <td>Epsom</td>\n",
       "      <td>1991.00</td>\n",
       "      <td>September</td>\n",
       "      <td>-159.00</td>\n",
       "    </tr>\n",
       "    <tr>\n",
       "      <th>2</th>\n",
       "      <td>shopping</td>\n",
       "      <td>1991, December</td>\n",
       "      <td>4805</td>\n",
       "      <td>4784</td>\n",
       "      <td>Epsom</td>\n",
       "      <td>1991.00</td>\n",
       "      <td>December</td>\n",
       "      <td>-21.00</td>\n",
       "    </tr>\n",
       "    <tr>\n",
       "      <th>3</th>\n",
       "      <td>shopping</td>\n",
       "      <td>1992, March</td>\n",
       "      <td>4570</td>\n",
       "      <td>4603</td>\n",
       "      <td>Epsom</td>\n",
       "      <td>1992.00</td>\n",
       "      <td>March</td>\n",
       "      <td>33.00</td>\n",
       "    </tr>\n",
       "    <tr>\n",
       "      <th>4</th>\n",
       "      <td>shopping</td>\n",
       "      <td>1992, November</td>\n",
       "      <td>4506</td>\n",
       "      <td>4629</td>\n",
       "      <td>Epsom</td>\n",
       "      <td>1992.00</td>\n",
       "      <td>November</td>\n",
       "      <td>123.00</td>\n",
       "    </tr>\n",
       "  </tbody>\n",
       "</table>\n",
       "</div>"
      ],
      "text/plain": [
       "       type        yearmonth  buyers_6  buyers_13   shop    year      month  \\\n",
       "0  shopping       1990, July      4942       4882  Epsom 1990.00       July   \n",
       "1  shopping  1991, September      4895       4736  Epsom 1991.00  September   \n",
       "2  shopping   1991, December      4805       4784  Epsom 1991.00   December   \n",
       "3  shopping      1992, March      4570       4603  Epsom 1992.00      March   \n",
       "4  shopping   1992, November      4506       4629  Epsom 1992.00   November   \n",
       "\n",
       "   diff_13_6  \n",
       "0     -60.00  \n",
       "1    -159.00  \n",
       "2     -21.00  \n",
       "3      33.00  \n",
       "4     123.00  "
      ]
     },
     "metadata": {},
     "output_type": "display_data"
    },
    {
     "data": {
      "text/html": [
       "<div>\n",
       "<style scoped>\n",
       "    .dataframe tbody tr th:only-of-type {\n",
       "        vertical-align: middle;\n",
       "    }\n",
       "\n",
       "    .dataframe tbody tr th {\n",
       "        vertical-align: top;\n",
       "    }\n",
       "\n",
       "    .dataframe thead th {\n",
       "        text-align: right;\n",
       "    }\n",
       "</style>\n",
       "<table border=\"1\" class=\"dataframe\">\n",
       "  <thead>\n",
       "    <tr style=\"text-align: right;\">\n",
       "      <th></th>\n",
       "      <th>buyers_6</th>\n",
       "      <th>buyers_13</th>\n",
       "      <th>year</th>\n",
       "      <th>diff_13_6</th>\n",
       "    </tr>\n",
       "  </thead>\n",
       "  <tbody>\n",
       "    <tr>\n",
       "      <th>count</th>\n",
       "      <td>45.00</td>\n",
       "      <td>45.00</td>\n",
       "      <td>45.00</td>\n",
       "      <td>45.00</td>\n",
       "    </tr>\n",
       "    <tr>\n",
       "      <th>mean</th>\n",
       "      <td>4970.51</td>\n",
       "      <td>5017.00</td>\n",
       "      <td>1991.20</td>\n",
       "      <td>46.49</td>\n",
       "    </tr>\n",
       "    <tr>\n",
       "      <th>std</th>\n",
       "      <td>1165.62</td>\n",
       "      <td>1172.89</td>\n",
       "      <td>0.76</td>\n",
       "      <td>174.98</td>\n",
       "    </tr>\n",
       "    <tr>\n",
       "      <th>min</th>\n",
       "      <td>3558.00</td>\n",
       "      <td>3554.00</td>\n",
       "      <td>1990.00</td>\n",
       "      <td>-302.00</td>\n",
       "    </tr>\n",
       "    <tr>\n",
       "      <th>25%</th>\n",
       "      <td>3954.00</td>\n",
       "      <td>3926.00</td>\n",
       "      <td>1991.00</td>\n",
       "      <td>-47.00</td>\n",
       "    </tr>\n",
       "    <tr>\n",
       "      <th>50%</th>\n",
       "      <td>4805.00</td>\n",
       "      <td>4736.00</td>\n",
       "      <td>1991.00</td>\n",
       "      <td>11.00</td>\n",
       "    </tr>\n",
       "    <tr>\n",
       "      <th>75%</th>\n",
       "      <td>6026.00</td>\n",
       "      <td>6162.00</td>\n",
       "      <td>1992.00</td>\n",
       "      <td>136.00</td>\n",
       "    </tr>\n",
       "    <tr>\n",
       "      <th>max</th>\n",
       "      <td>7138.00</td>\n",
       "      <td>7057.00</td>\n",
       "      <td>1992.00</td>\n",
       "      <td>774.00</td>\n",
       "    </tr>\n",
       "  </tbody>\n",
       "</table>\n",
       "</div>"
      ],
      "text/plain": [
       "       buyers_6  buyers_13    year  diff_13_6\n",
       "count     45.00      45.00   45.00      45.00\n",
       "mean    4970.51    5017.00 1991.20      46.49\n",
       "std     1165.62    1172.89    0.76     174.98\n",
       "min     3558.00    3554.00 1990.00    -302.00\n",
       "25%     3954.00    3926.00 1991.00     -47.00\n",
       "50%     4805.00    4736.00 1991.00      11.00\n",
       "75%     6026.00    6162.00 1992.00     136.00\n",
       "max     7138.00    7057.00 1992.00     774.00"
      ]
     },
     "metadata": {},
     "output_type": "display_data"
    }
   ],
   "source": [
    "data = pd.read_csv('data/13_6', sep='\\t', header=None, names=['type', 'yearmonth', 'buyers_6', 'buyers_13', 'shop'])\n",
    "\n",
    "# separate month from year\n",
    "data = pd.concat([data, data['yearmonth'].str.split(', ', expand=True).set_axis(['year', 'month'], axis=1, inplace=False)], axis=1)\n",
    "\n",
    "# compute 13-6 diff\n",
    "data['diff_13_6'] = data['buyers_13'] - data['buyers_6']\n",
    "\n",
    "data = data.astype({'year': np.float, 'diff_13_6': np.float})\n",
    "\n",
    "display(data.head())\n",
    "display(data.describe())"
   ]
  },
  {
   "cell_type": "markdown",
   "metadata": {},
   "source": [
    "### Среднее, медиана, дисперсия"
   ]
  },
  {
   "cell_type": "code",
   "execution_count": 4,
   "metadata": {},
   "outputs": [
    {
     "data": {
      "text/html": [
       "<div>\n",
       "<style scoped>\n",
       "    .dataframe tbody tr th:only-of-type {\n",
       "        vertical-align: middle;\n",
       "    }\n",
       "\n",
       "    .dataframe tbody tr th {\n",
       "        vertical-align: top;\n",
       "    }\n",
       "\n",
       "    .dataframe thead th {\n",
       "        text-align: right;\n",
       "    }\n",
       "</style>\n",
       "<table border=\"1\" class=\"dataframe\">\n",
       "  <thead>\n",
       "    <tr style=\"text-align: right;\">\n",
       "      <th></th>\n",
       "      <th>buyers_13</th>\n",
       "    </tr>\n",
       "  </thead>\n",
       "  <tbody>\n",
       "    <tr>\n",
       "      <th>mean</th>\n",
       "      <td>5017.0</td>\n",
       "    </tr>\n",
       "    <tr>\n",
       "      <th>median</th>\n",
       "      <td>4736.0</td>\n",
       "    </tr>\n",
       "    <tr>\n",
       "      <th>var</th>\n",
       "      <td>1375666.5</td>\n",
       "    </tr>\n",
       "  </tbody>\n",
       "</table>\n",
       "</div>"
      ],
      "text/plain": [
       "        buyers_13\n",
       "mean       5017.0\n",
       "median     4736.0\n",
       "var     1375666.5"
      ]
     },
     "execution_count": 4,
     "metadata": {},
     "output_type": "execute_result"
    }
   ],
   "source": [
    "from functools import partial\n",
    "\n",
    "pd.options.display.float_format = '{:.1f}'.format\n",
    "data.agg({'buyers_13': [np.mean, np.median, np.var]})"
   ]
  },
  {
   "cell_type": "code",
   "execution_count": 5,
   "metadata": {},
   "outputs": [
    {
     "name": "stdout",
     "output_type": "stream",
     "text": [
      "correct var: 1345096.1\n"
     ]
    }
   ],
   "source": [
    "print(f'correct var: {np.var(data.buyers_13, ddof=0):.1f}')"
   ]
  },
  {
   "cell_type": "markdown",
   "metadata": {},
   "source": [
    "### Разница между 13 и 6: среднее, эксцесс, асимметрия"
   ]
  },
  {
   "cell_type": "code",
   "execution_count": 16,
   "metadata": {},
   "outputs": [
    {
     "data": {
      "text/html": [
       "<div>\n",
       "<style scoped>\n",
       "    .dataframe tbody tr th:only-of-type {\n",
       "        vertical-align: middle;\n",
       "    }\n",
       "\n",
       "    .dataframe tbody tr th {\n",
       "        vertical-align: top;\n",
       "    }\n",
       "\n",
       "    .dataframe thead th {\n",
       "        text-align: right;\n",
       "    }\n",
       "</style>\n",
       "<table border=\"1\" class=\"dataframe\">\n",
       "  <thead>\n",
       "    <tr style=\"text-align: right;\">\n",
       "      <th></th>\n",
       "      <th>mean</th>\n",
       "      <th>kurt</th>\n",
       "      <th>skew</th>\n",
       "    </tr>\n",
       "  </thead>\n",
       "  <tbody>\n",
       "    <tr>\n",
       "      <th>diff</th>\n",
       "      <td>46.49</td>\n",
       "      <td>4.96</td>\n",
       "      <td>1.47</td>\n",
       "    </tr>\n",
       "  </tbody>\n",
       "</table>\n",
       "</div>"
      ],
      "text/plain": [
       "      mean  kurt  skew\n",
       "diff 46.49  4.96  1.47"
      ]
     },
     "execution_count": 16,
     "metadata": {},
     "output_type": "execute_result"
    }
   ],
   "source": [
    "diff = data['diff_13_6']\n",
    "\n",
    "pd.options.display.float_format = '{:.2f}'.format\n",
    "pd.DataFrame({'mean': np.mean(diff), 'kurt': scipy.stats.kurtosis(diff), 'skew': scipy.stats.skew(diff)}, index=['diff'])"
   ]
  },
  {
   "cell_type": "markdown",
   "metadata": {},
   "source": [
    "### Визуализация"
   ]
  },
  {
   "cell_type": "code",
   "execution_count": 41,
   "metadata": {},
   "outputs": [
    {
     "data": {
      "image/png": "[encoded data removed]",
      "text/plain": [
       "<Figure size 1152x576 with 6 Axes>"
      ]
     },
     "metadata": {
      "needs_background": "light"
     },
     "output_type": "display_data"
    }
   ],
   "source": [
    "fig, ax = plt.subplots(2, 3, figsize=(16, 8))\n",
    "\n",
    "ax[0][0].hist('buyers_13', data=data, bins=15)\n",
    "ax[0][1].hist('buyers_6', data=data, bins=15)\n",
    "ax[0][2].hist('diff_13_6', data=data, bins=15)\n",
    "\n",
    "ax[1][0].boxplot('buyers_13', data=data)\n",
    "ax[1][1].boxplot('buyers_6', data=data)\n",
    "ax[1][2].boxplot('diff_13_6', data=data)\n",
    "\n",
    "ax[0][0].set_title('buyers_13')\n",
    "ax[0][1].set_title('buyers_6')\n",
    "ax[0][2].set_title('diff_13_6')\n",
    "\n",
    "fig.tight_layout()"
   ]
  },
  {
   "cell_type": "markdown",
   "metadata": {},
   "source": [
    "## Colleges"
   ]
  },
  {
   "cell_type": "markdown",
   "metadata": {},
   "source": [
    "### Данные"
   ]
  },
  {
   "cell_type": "code",
   "execution_count": 42,
   "metadata": {},
   "outputs": [],
   "source": [
    "data = pd.read_csv('data/colleges.txt', sep='\\t')"
   ]
  },
  {
   "cell_type": "code",
   "execution_count": 46,
   "metadata": {},
   "outputs": [
    {
     "data": {
      "text/html": [
       "<div>\n",
       "<style scoped>\n",
       "    .dataframe tbody tr th:only-of-type {\n",
       "        vertical-align: middle;\n",
       "    }\n",
       "\n",
       "    .dataframe tbody tr th {\n",
       "        vertical-align: top;\n",
       "    }\n",
       "\n",
       "    .dataframe thead th {\n",
       "        text-align: right;\n",
       "    }\n",
       "</style>\n",
       "<table border=\"1\" class=\"dataframe\">\n",
       "  <thead>\n",
       "    <tr style=\"text-align: right;\">\n",
       "      <th></th>\n",
       "      <th>School</th>\n",
       "      <th>School_Type</th>\n",
       "      <th>SAT</th>\n",
       "      <th>Acceptance</th>\n",
       "      <th>$/Student</th>\n",
       "      <th>Top 10%</th>\n",
       "      <th>%PhD</th>\n",
       "      <th>Grad%</th>\n",
       "    </tr>\n",
       "  </thead>\n",
       "  <tbody>\n",
       "    <tr>\n",
       "      <th>0</th>\n",
       "      <td>Amherst</td>\n",
       "      <td>Lib Arts</td>\n",
       "      <td>1315</td>\n",
       "      <td>22</td>\n",
       "      <td>26636</td>\n",
       "      <td>85</td>\n",
       "      <td>81</td>\n",
       "      <td>93</td>\n",
       "    </tr>\n",
       "    <tr>\n",
       "      <th>1</th>\n",
       "      <td>Swarthmore</td>\n",
       "      <td>Lib Arts</td>\n",
       "      <td>1310</td>\n",
       "      <td>24</td>\n",
       "      <td>27487</td>\n",
       "      <td>78</td>\n",
       "      <td>93</td>\n",
       "      <td>88</td>\n",
       "    </tr>\n",
       "    <tr>\n",
       "      <th>2</th>\n",
       "      <td>Williams</td>\n",
       "      <td>Lib Arts</td>\n",
       "      <td>1336</td>\n",
       "      <td>28</td>\n",
       "      <td>23772</td>\n",
       "      <td>86</td>\n",
       "      <td>90</td>\n",
       "      <td>93</td>\n",
       "    </tr>\n",
       "    <tr>\n",
       "      <th>3</th>\n",
       "      <td>Bowdoin</td>\n",
       "      <td>Lib Arts</td>\n",
       "      <td>1300</td>\n",
       "      <td>24</td>\n",
       "      <td>25703</td>\n",
       "      <td>78</td>\n",
       "      <td>95</td>\n",
       "      <td>90</td>\n",
       "    </tr>\n",
       "    <tr>\n",
       "      <th>4</th>\n",
       "      <td>Wellesley</td>\n",
       "      <td>Lib Arts</td>\n",
       "      <td>1250</td>\n",
       "      <td>49</td>\n",
       "      <td>27879</td>\n",
       "      <td>76</td>\n",
       "      <td>91</td>\n",
       "      <td>86</td>\n",
       "    </tr>\n",
       "  </tbody>\n",
       "</table>\n",
       "</div>"
      ],
      "text/plain": [
       "       School School_Type   SAT  Acceptance  $/Student  Top 10%  %PhD  Grad%\n",
       "0     Amherst    Lib Arts  1315          22      26636       85    81     93\n",
       "1  Swarthmore    Lib Arts  1310          24      27487       78    93     88\n",
       "2    Williams    Lib Arts  1336          28      23772       86    90     93\n",
       "3     Bowdoin    Lib Arts  1300          24      25703       78    95     90\n",
       "4   Wellesley    Lib Arts  1250          49      27879       76    91     86"
      ]
     },
     "metadata": {},
     "output_type": "display_data"
    },
    {
     "data": {
      "text/plain": [
       "School         object\n",
       "School_Type    object\n",
       "SAT             int64\n",
       "Acceptance      int64\n",
       "$/Student       int64\n",
       "Top 10%         int64\n",
       "%PhD            int64\n",
       "Grad%           int64\n",
       "dtype: object"
      ]
     },
     "metadata": {},
     "output_type": "display_data"
    }
   ],
   "source": [
    "display(data.head())\n",
    "display(data.dtypes)"
   ]
  },
  {
   "cell_type": "code",
   "execution_count": 53,
   "metadata": {},
   "outputs": [
    {
     "data": {
      "text/plain": [
       "array(['Lib Arts', 'Univ'], dtype=object)"
      ]
     },
     "execution_count": 53,
     "metadata": {},
     "output_type": "execute_result"
    }
   ],
   "source": [
    "np.unique(data['School_Type'].values)"
   ]
  },
  {
   "cell_type": "markdown",
   "metadata": {},
   "source": [
    "### Визуализация: boxplot"
   ]
  },
  {
   "cell_type": "markdown",
   "metadata": {},
   "source": [
    "#### Вторая попытка"
   ]
  },
  {
   "cell_type": "code",
   "execution_count": 81,
   "metadata": {},
   "outputs": [
    {
     "data": {
      "image/png": "[encoded data removed]",
      "text/plain": [
       "<Figure size 1152x288 with 6 Axes>"
      ]
     },
     "metadata": {
      "needs_background": "light"
     },
     "output_type": "display_data"
    }
   ],
   "source": [
    "columns = ['SAT', 'Acceptance', '$/Student', 'Top 10%', '%PhD', 'Grad%']\n",
    "stypes = np.unique(data['School_Type'].values)\n",
    "fig, ax = plt.subplots(1, len(columns), figsize=(16, 4))\n",
    "\n",
    "# Side-by-side\n",
    "for j, colname in enumerate(columns):\n",
    "    ax[j].boxplot([\n",
    "        data[data['School_Type'] == stypes[0]][colname],\n",
    "        data[data['School_Type'] == stypes[1]][colname]\n",
    "    ], labels=stypes)\n",
    "    ax[j].set_title(colname)\n",
    "\n",
    "fig.tight_layout()"
   ]
  },
  {
   "cell_type": "markdown",
   "metadata": {},
   "source": [
    "#### Первая попытка, для истории (неудобно и некорректно: разные масштабы)"
   ]
  },
  {
   "cell_type": "code",
   "execution_count": 127,
   "metadata": {
    "scrolled": true
   },
   "outputs": [
    {
     "data": {
      "image/png": "[encoded data removed]",
      "text/plain": [
       "<Figure size 1152x288 with 12 Axes>"
      ]
     },
     "metadata": {
      "needs_background": "light"
     },
     "output_type": "display_data"
    }
   ],
   "source": [
    "columns = ['SAT', 'Acceptance', '$/Student', 'Top 10%', '%PhD', 'Grad%']\n",
    "stypes = np.unique(data['School_Type'].values)\n",
    "fig, ax = plt.subplots(2, len(columns), figsize=(16, 4))\n",
    "\n",
    "for i, stype in enumerate(stypes):\n",
    "    for j, colname in enumerate(columns):\n",
    "        ax[i][j].boxplot(data[data['School_Type'] == stype][colname])\n",
    "        \n",
    "# Set titles for the rows and columns\n",
    "for axis, colname in zip(ax[0], columns):\n",
    "    axis.set_title(colname)\n",
    "for axis, row in zip(ax[:,0], stypes):\n",
    "    axis.set_ylabel(row, size='large')     \n",
    "    \n",
    "fig.tight_layout()"
   ]
  },
  {
   "cell_type": "markdown",
   "metadata": {},
   "source": [
    "### Визуализация: hist"
   ]
  },
  {
   "cell_type": "code",
   "execution_count": 115,
   "metadata": {},
   "outputs": [
    {
     "data": {
      "image/png": "[encoded data removed]",
      "text/plain": [
       "<Figure size 1152x288 with 6 Axes>"
      ]
     },
     "metadata": {
      "needs_background": "light"
     },
     "output_type": "display_data"
    }
   ],
   "source": [
    "columns = ['SAT', 'Acceptance', '$/Student', 'Top 10%', '%PhD', 'Grad%']\n",
    "stypes = np.unique(data['School_Type'].values)\n",
    "fig, ax = plt.subplots(1, len(columns), figsize=(16, 4))\n",
    "\n",
    "for j, colname in enumerate(columns):\n",
    "    ax[j].hist([\n",
    "        data[data['School_Type'] == stypes[0]][colname],\n",
    "        data[data['School_Type'] == stypes[1]][colname]\n",
    "    ], label=stypes)\n",
    "    ax[j].legend()\n",
    "    ax[j].set_title(colname)\n",
    "    \n",
    "fig.tight_layout()"
   ]
  },
  {
   "cell_type": "markdown",
   "metadata": {},
   "source": [
    "### Статистики"
   ]
  },
  {
   "cell_type": "code",
   "execution_count": 126,
   "metadata": {},
   "outputs": [
    {
     "data": {
      "text/html": [
       "<div>\n",
       "<style scoped>\n",
       "    .dataframe tbody tr th:only-of-type {\n",
       "        vertical-align: middle;\n",
       "    }\n",
       "\n",
       "    .dataframe tbody tr th {\n",
       "        vertical-align: top;\n",
       "    }\n",
       "\n",
       "    .dataframe thead th {\n",
       "        text-align: right;\n",
       "    }\n",
       "</style>\n",
       "<table border=\"1\" class=\"dataframe\">\n",
       "  <thead>\n",
       "    <tr style=\"text-align: right;\">\n",
       "      <th></th>\n",
       "      <th>mean of SAT, Lib Arts</th>\n",
       "      <th>3rd quartile of acceptance, Univ</th>\n",
       "      <th>Univ with max $/Student</th>\n",
       "    </tr>\n",
       "  </thead>\n",
       "  <tbody>\n",
       "    <tr>\n",
       "      <th>value</th>\n",
       "      <td>1256.64</td>\n",
       "      <td>45.00</td>\n",
       "      <td>Cal Tech</td>\n",
       "    </tr>\n",
       "  </tbody>\n",
       "</table>\n",
       "</div>"
      ],
      "text/plain": [
       "       mean of SAT, Lib Arts  3rd quartile of acceptance, Univ  \\\n",
       "value                1256.64                             45.00   \n",
       "\n",
       "      Univ with max $/Student  \n",
       "value                Cal Tech  "
      ]
     },
     "execution_count": 126,
     "metadata": {},
     "output_type": "execute_result"
    }
   ],
   "source": [
    "pd.options.display.float_format = '{:.2f}'.format\n",
    "pd.DataFrame({\n",
    "    'mean of SAT, Lib Arts': data[data['School_Type'] == 'Lib Arts']['SAT'].mean(),\n",
    "    '3rd quartile of acceptance, Univ': np.quantile(data[data['School_Type'] == 'Univ']['Acceptance'], 0.75),\n",
    "    'Univ with max $/Student': data.iloc[data['$/Student'].idxmax()]['School']\n",
    "}, index=['value'])"
   ]
  },
  {
   "cell_type": "code",
   "execution_count": null,
   "metadata": {},
   "outputs": [],
   "source": []
  }
 ],
 "metadata": {
  "kernelspec": {
   "display_name": "Python 3",
   "language": "python",
   "name": "python3"
  },
  "language_info": {
   "codemirror_mode": {
    "name": "ipython",
    "version": 3
   },
   "file_extension": ".py",
   "mimetype": "text/x-python",
   "name": "python",
   "nbconvert_exporter": "python",
   "pygments_lexer": "ipython3",
   "version": "3.8.0"
  },
  "notify_time": "5"
 },
 "nbformat": 4,
 "nbformat_minor": 2
}
